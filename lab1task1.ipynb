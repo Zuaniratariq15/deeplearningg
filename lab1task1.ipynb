{
 "cells": [
  {
   "cell_type": "code",
   "execution_count": null,
   "id": "3d5e4585-e496-421c-a122-5f0f73a42639",
   "metadata": {},
   "outputs": [],
   "source": [
    "import tensorflow as tf\n",
    "\n",
    "# Create a 3D tensor with random float values\n",
    "tensor = tf.random.uniform(shape=(3, 4, 5), minval=0, maxval=10, dtype=tf.float32)\n",
    "\n",
    "# Compute sum, mean, and max\n",
    "tensor_sum = tf.reduce_sum(tensor)\n",
    "tensor_mean = tf.reduce_mean(tensor)\n",
    "tensor_max = tf.reduce_max(tensor)\n",
    "\n",
    "# Print results\n",
    "print(\"Tensor:\\n\", tensor.numpy())  \n",
    "print(\"\\nSum:\", tensor_sum.numpy())\n",
    "print(\"Mean:\", tensor_mean.numpy())\n",
    "print(\"Max:\", tensor_max.numpy())\n"
   ]
  },
  {
   "cell_type": "code",
   "execution_count": null,
   "id": "2c47a75e-0875-489d-8c27-6e8b1e1763a0",
   "metadata": {},
   "outputs": [],
   "source": []
  },
  {
   "cell_type": "code",
   "execution_count": null,
   "id": "09a2b686-1a5a-4d3c-a072-a5eba946a22e",
   "metadata": {},
   "outputs": [],
   "source": []
  }
 ],
 "metadata": {
  "kernelspec": {
   "display_name": "Python 3 (ipykernel)",
   "language": "python",
   "name": "python3"
  },
  "language_info": {
   "codemirror_mode": {
    "name": "ipython",
    "version": 3
   },
   "file_extension": ".py",
   "mimetype": "text/x-python",
   "name": "python",
   "nbconvert_exporter": "python",
   "pygments_lexer": "ipython3",
   "version": "3.12.7"
  }
 },
 "nbformat": 4,
 "nbformat_minor": 5
}
